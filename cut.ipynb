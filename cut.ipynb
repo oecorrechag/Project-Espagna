{
 "cells": [
  {
   "cell_type": "code",
   "execution_count": 1,
   "id": "01e40270",
   "metadata": {},
   "outputs": [],
   "source": [
    "from scipy import cluster\n",
    "import numpy as np\n",
    "from numpy.random import default_rng"
   ]
  },
  {
   "cell_type": "code",
   "execution_count": 2,
   "id": "304a517f",
   "metadata": {},
   "outputs": [],
   "source": [
    "rng = default_rng()\n",
    "X = rng.random((50, 4))"
   ]
  },
  {
   "cell_type": "code",
   "execution_count": 3,
   "id": "5db93a7c",
   "metadata": {},
   "outputs": [],
   "source": [
    "Z = cluster.hierarchy.ward(X)"
   ]
  },
  {
   "cell_type": "code",
   "execution_count": 10,
   "id": "ee7f7018",
   "metadata": {},
   "outputs": [],
   "source": [
    "cutree = cluster.hierarchy.cut_tree(Z, n_clusters=[5, 10])"
   ]
  },
  {
   "cell_type": "code",
   "execution_count": 11,
   "id": "7ff14d22",
   "metadata": {},
   "outputs": [
    {
     "data": {
      "text/plain": [
       "array([[0, 0],\n",
       "       [1, 1],\n",
       "       [1, 2],\n",
       "       [2, 3],\n",
       "       [1, 1],\n",
       "       [1, 1],\n",
       "       [3, 4],\n",
       "       [0, 0],\n",
       "       [0, 0],\n",
       "       [1, 1],\n",
       "       [1, 2],\n",
       "       [3, 5],\n",
       "       [3, 4],\n",
       "       [1, 6],\n",
       "       [3, 5],\n",
       "       [2, 3],\n",
       "       [0, 7],\n",
       "       [2, 3],\n",
       "       [4, 8],\n",
       "       [1, 6],\n",
       "       [3, 5],\n",
       "       [1, 6],\n",
       "       [3, 4],\n",
       "       [4, 8],\n",
       "       [4, 9],\n",
       "       [0, 0],\n",
       "       [4, 8],\n",
       "       [4, 9],\n",
       "       [1, 2],\n",
       "       [2, 3],\n",
       "       [2, 3],\n",
       "       [1, 2],\n",
       "       [3, 4],\n",
       "       [1, 2],\n",
       "       [4, 9],\n",
       "       [0, 0],\n",
       "       [1, 2],\n",
       "       [0, 7],\n",
       "       [4, 8],\n",
       "       [1, 6],\n",
       "       [4, 9],\n",
       "       [3, 4],\n",
       "       [1, 2],\n",
       "       [1, 2],\n",
       "       [2, 3],\n",
       "       [2, 3],\n",
       "       [3, 4],\n",
       "       [1, 2],\n",
       "       [1, 6],\n",
       "       [3, 5]])"
      ]
     },
     "execution_count": 11,
     "metadata": {},
     "output_type": "execute_result"
    }
   ],
   "source": [
    "cutree"
   ]
  },
  {
   "cell_type": "code",
   "execution_count": 17,
   "id": "3431393c",
   "metadata": {},
   "outputs": [],
   "source": [
    "k = 5"
   ]
  },
  {
   "cell_type": "code",
   "execution_count": 18,
   "id": "27a7d7cc",
   "metadata": {},
   "outputs": [],
   "source": [
    "from scipy.cluster.hierarchy import fcluster\n",
    "clust = fcluster(Z, k, criterion='maxclust')"
   ]
  },
  {
   "cell_type": "code",
   "execution_count": 19,
   "id": "bd759374",
   "metadata": {},
   "outputs": [
    {
     "data": {
      "text/plain": [
       "array([2, 5, 5, 4, 5, 5, 3, 2, 2, 5, 5, 3, 3, 5, 3, 4, 2, 4, 1, 5, 3, 5,\n",
       "       3, 1, 1, 2, 1, 1, 5, 4, 4, 5, 3, 5, 1, 2, 5, 2, 1, 5, 1, 3, 5, 5,\n",
       "       4, 4, 3, 5, 5, 3], dtype=int32)"
      ]
     },
     "execution_count": 19,
     "metadata": {},
     "output_type": "execute_result"
    }
   ],
   "source": [
    "clust"
   ]
  },
  {
   "cell_type": "code",
   "execution_count": 20,
   "id": "0472a1f7",
   "metadata": {},
   "outputs": [
    {
     "data": {
      "text/plain": [
       "50"
      ]
     },
     "execution_count": 20,
     "metadata": {},
     "output_type": "execute_result"
    }
   ],
   "source": [
    "len(clust)"
   ]
  },
  {
   "cell_type": "code",
   "execution_count": 23,
   "id": "b7241507",
   "metadata": {},
   "outputs": [],
   "source": [
    "import pandas as pd"
   ]
  },
  {
   "cell_type": "code",
   "execution_count": 24,
   "id": "220177da",
   "metadata": {},
   "outputs": [],
   "source": [
    "df = pd.DataFrame(X,\n",
    "                  columns = ['col1','col2','col3','col4'])"
   ]
  },
  {
   "cell_type": "code",
   "execution_count": 25,
   "id": "b7e32b68",
   "metadata": {},
   "outputs": [
    {
     "data": {
      "text/html": [
       "<div>\n",
       "<style scoped>\n",
       "    .dataframe tbody tr th:only-of-type {\n",
       "        vertical-align: middle;\n",
       "    }\n",
       "\n",
       "    .dataframe tbody tr th {\n",
       "        vertical-align: top;\n",
       "    }\n",
       "\n",
       "    .dataframe thead th {\n",
       "        text-align: right;\n",
       "    }\n",
       "</style>\n",
       "<table border=\"1\" class=\"dataframe\">\n",
       "  <thead>\n",
       "    <tr style=\"text-align: right;\">\n",
       "      <th></th>\n",
       "      <th>col1</th>\n",
       "      <th>col2</th>\n",
       "      <th>col3</th>\n",
       "      <th>col4</th>\n",
       "    </tr>\n",
       "  </thead>\n",
       "  <tbody>\n",
       "    <tr>\n",
       "      <th>0</th>\n",
       "      <td>0.383230</td>\n",
       "      <td>0.882789</td>\n",
       "      <td>0.215236</td>\n",
       "      <td>0.191252</td>\n",
       "    </tr>\n",
       "    <tr>\n",
       "      <th>1</th>\n",
       "      <td>0.041868</td>\n",
       "      <td>0.571192</td>\n",
       "      <td>0.814686</td>\n",
       "      <td>0.849481</td>\n",
       "    </tr>\n",
       "    <tr>\n",
       "      <th>2</th>\n",
       "      <td>0.192505</td>\n",
       "      <td>0.563616</td>\n",
       "      <td>0.423657</td>\n",
       "      <td>0.396623</td>\n",
       "    </tr>\n",
       "    <tr>\n",
       "      <th>3</th>\n",
       "      <td>0.336877</td>\n",
       "      <td>0.843822</td>\n",
       "      <td>0.954547</td>\n",
       "      <td>0.219799</td>\n",
       "    </tr>\n",
       "    <tr>\n",
       "      <th>4</th>\n",
       "      <td>0.259100</td>\n",
       "      <td>0.526005</td>\n",
       "      <td>0.902783</td>\n",
       "      <td>0.915386</td>\n",
       "    </tr>\n",
       "  </tbody>\n",
       "</table>\n",
       "</div>"
      ],
      "text/plain": [
       "       col1      col2      col3      col4\n",
       "0  0.383230  0.882789  0.215236  0.191252\n",
       "1  0.041868  0.571192  0.814686  0.849481\n",
       "2  0.192505  0.563616  0.423657  0.396623\n",
       "3  0.336877  0.843822  0.954547  0.219799\n",
       "4  0.259100  0.526005  0.902783  0.915386"
      ]
     },
     "execution_count": 25,
     "metadata": {},
     "output_type": "execute_result"
    }
   ],
   "source": [
    "df.head()"
   ]
  },
  {
   "cell_type": "code",
   "execution_count": 26,
   "id": "3d250f88",
   "metadata": {},
   "outputs": [],
   "source": [
    "df['group'] = fcluster(Z, k, criterion='maxclust')"
   ]
  },
  {
   "cell_type": "code",
   "execution_count": 27,
   "id": "0c8797f0",
   "metadata": {},
   "outputs": [
    {
     "data": {
      "text/html": [
       "<div>\n",
       "<style scoped>\n",
       "    .dataframe tbody tr th:only-of-type {\n",
       "        vertical-align: middle;\n",
       "    }\n",
       "\n",
       "    .dataframe tbody tr th {\n",
       "        vertical-align: top;\n",
       "    }\n",
       "\n",
       "    .dataframe thead th {\n",
       "        text-align: right;\n",
       "    }\n",
       "</style>\n",
       "<table border=\"1\" class=\"dataframe\">\n",
       "  <thead>\n",
       "    <tr style=\"text-align: right;\">\n",
       "      <th></th>\n",
       "      <th>col1</th>\n",
       "      <th>col2</th>\n",
       "      <th>col3</th>\n",
       "      <th>col4</th>\n",
       "      <th>group</th>\n",
       "    </tr>\n",
       "  </thead>\n",
       "  <tbody>\n",
       "    <tr>\n",
       "      <th>0</th>\n",
       "      <td>0.383230</td>\n",
       "      <td>0.882789</td>\n",
       "      <td>0.215236</td>\n",
       "      <td>0.191252</td>\n",
       "      <td>2</td>\n",
       "    </tr>\n",
       "    <tr>\n",
       "      <th>1</th>\n",
       "      <td>0.041868</td>\n",
       "      <td>0.571192</td>\n",
       "      <td>0.814686</td>\n",
       "      <td>0.849481</td>\n",
       "      <td>5</td>\n",
       "    </tr>\n",
       "    <tr>\n",
       "      <th>2</th>\n",
       "      <td>0.192505</td>\n",
       "      <td>0.563616</td>\n",
       "      <td>0.423657</td>\n",
       "      <td>0.396623</td>\n",
       "      <td>5</td>\n",
       "    </tr>\n",
       "    <tr>\n",
       "      <th>3</th>\n",
       "      <td>0.336877</td>\n",
       "      <td>0.843822</td>\n",
       "      <td>0.954547</td>\n",
       "      <td>0.219799</td>\n",
       "      <td>4</td>\n",
       "    </tr>\n",
       "    <tr>\n",
       "      <th>4</th>\n",
       "      <td>0.259100</td>\n",
       "      <td>0.526005</td>\n",
       "      <td>0.902783</td>\n",
       "      <td>0.915386</td>\n",
       "      <td>5</td>\n",
       "    </tr>\n",
       "  </tbody>\n",
       "</table>\n",
       "</div>"
      ],
      "text/plain": [
       "       col1      col2      col3      col4  group\n",
       "0  0.383230  0.882789  0.215236  0.191252      2\n",
       "1  0.041868  0.571192  0.814686  0.849481      5\n",
       "2  0.192505  0.563616  0.423657  0.396623      5\n",
       "3  0.336877  0.843822  0.954547  0.219799      4\n",
       "4  0.259100  0.526005  0.902783  0.915386      5"
      ]
     },
     "execution_count": 27,
     "metadata": {},
     "output_type": "execute_result"
    }
   ],
   "source": [
    "df.head()"
   ]
  },
  {
   "cell_type": "code",
   "execution_count": 28,
   "id": "d83081ab",
   "metadata": {},
   "outputs": [
    {
     "data": {
      "text/plain": [
       "5    18\n",
       "3    10\n",
       "1     8\n",
       "2     7\n",
       "4     7\n",
       "Name: group, dtype: int64"
      ]
     },
     "execution_count": 28,
     "metadata": {},
     "output_type": "execute_result"
    }
   ],
   "source": [
    "df['group'].value_counts()"
   ]
  },
  {
   "cell_type": "code",
   "execution_count": null,
   "id": "628dddc6",
   "metadata": {},
   "outputs": [],
   "source": []
  }
 ],
 "metadata": {
  "kernelspec": {
   "display_name": "human",
   "language": "python",
   "name": "human"
  },
  "language_info": {
   "codemirror_mode": {
    "name": "ipython",
    "version": 3
   },
   "file_extension": ".py",
   "mimetype": "text/x-python",
   "name": "python",
   "nbconvert_exporter": "python",
   "pygments_lexer": "ipython3",
   "version": "3.9.12"
  }
 },
 "nbformat": 4,
 "nbformat_minor": 5
}
